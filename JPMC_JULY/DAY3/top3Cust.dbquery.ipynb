{
 "cells": [
  {
   "cell_type": "code",
   "execution_count": 0,
   "metadata": {
    "application/vnd.databricks.v1+cell": {
     "cellMetadata": {
      "byteLimit": 10485760,
      "rowLimit": 64000
     },
     "inputWidgets": {},
     "nuid": "e766fb21-5a3f-4333-aed3-06ff65c39cd5",
     "showTitle": false,
     "tableResultSettingsMap": {},
     "title": ""
    }
   },
   "outputs": [],
   "source": [
    "select * from jpmc.kraj_gold.insights;\n",
    "\n",
    "select * from jpmc.kraj_bronze.sales left outer join jpmc.kraj_gold.top3cust\n",
    " on jpmc.kraj_bronze.sales.customer_id = jpmc.kraj_gold.top3cust.customer_id\n",
    "\n",
    "\n",
    " delete from jpmc.naval_silver.sales_cleaned"
   ]
  }
 ],
 "metadata": {
  "application/vnd.databricks.v1+notebook": {
   "computePreferences": null,
   "dashboards": [],
   "environmentMetadata": null,
   "inputWidgetPreferences": null,
   "language": "sql",
   "notebookMetadata": {
    "pythonIndentUnit": 4,
    "sqlQueryOptions": {
     "applyAutoLimit": false,
     "catalog": "jpmc",
     "schema": "kraj_gold"
    }
   },
   "notebookName": "top3Cust.dbquery.ipynb",
   "widgets": {}
  },
  "language_info": {
   "name": "sql"
  }
 },
 "nbformat": 4,
 "nbformat_minor": 0
}
